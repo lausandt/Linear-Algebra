{
 "cells": [
  {
   "cell_type": "markdown",
   "metadata": {},
   "source": [
    "## Matrix multiplication column perspective\n",
    "#### $\\mathbf{A}\\mathbf{B}= \\sum_{k=1}^{n}$ (column k of A)(row k of B)$=\\sum_{k=1}^{n}A\\begin{bmatrix}:,&k \\end{bmatrix}B\\begin{bmatrix}k, & : \\end{bmatrix}^T$\n",
    "#### Matrix multiplication column perspective is a weighted linear combination of the columns and the rows\n",
    "#### The sum of the columns of the first matrix weighted by the elements of the columns of the second matrix\n",
    "#### in essence you have two vectors, vector one is the first column of the first matrix scaled by the first element of the first column of the second matrix and the second vector is the first column of the first matrix and the second element of the first column of the second matrix"
   ]
  },
  {
   "cell_type": "markdown",
   "metadata": {},
   "source": [
    "$\\begin{Bmatrix}\n",
    " 1 & 2 \\\\\n",
    " 3 & 4 \\end{Bmatrix}\\times\\\n",
    " \\begin{Bmatrix}\n",
    " a & b \\\\\n",
    " c & d \\end{Bmatrix} = \\begin{Bmatrix}\n",
    " a\\times\\begin{bmatrix}\n",
    " 1 \\\\\n",
    " 3 \\end{bmatrix} + c\\times\\begin{bmatrix}\n",
    " 2 \\\\\n",
    " 4 \\end{bmatrix} &\n",
    " b\\times\\begin{bmatrix}\n",
    " 1 \\\\\n",
    " 3 \\end{bmatrix} + d\\times\\begin{bmatrix}\n",
    " 2 \\\\\n",
    " 4 \\end{bmatrix}\n",
    " \\end{Bmatrix}$\n"
   ]
  },
  {
   "cell_type": "markdown",
   "metadata": {},
   "source": [
    "$\\begin{Bmatrix}\n",
    " 1 & 2  \\\\\n",
    " 3 & 4 \\end{Bmatrix} \\times\n",
    " \\begin{Bmatrix}\n",
    " 5 & 6 \\\\\n",
    " 7 & 8 \\end{Bmatrix} = \n",
    " \\begin{Bmatrix}\n",
    " 5\\begin{bmatrix}1\\\\3\\end{bmatrix} +7\\begin{bmatrix}2\\\\4\\end{bmatrix}  &\n",
    " 6\\begin{bmatrix}1\\\\3\\end{bmatrix} + 8\\begin{bmatrix}2\\\\4\\end{bmatrix}\n",
    " \\end{Bmatrix} =\n",
    " \\begin{Bmatrix}\n",
    " \\begin{bmatrix}5\\\\15\\end{bmatrix} + \\begin{bmatrix}14\\\\28\\end{bmatrix} &\n",
    " \\begin{bmatrix}6\\\\18\\end{bmatrix} + \\begin{bmatrix}16\\\\32\\end{bmatrix} \n",
    " \\end{Bmatrix} =\n",
    " \\begin{Bmatrix}\n",
    " 19 & 22 \\\\\n",
    " 43 & 50 \\end{Bmatrix} $\n",
    " $\\begin{Bmatrix}\n",
    " 1 & 2 & 3 \\\\\n",
    " 4 & 5 & 6 \n",
    " \\end{Bmatrix}\\times\n",
    " \\begin{Bmatrix}\n",
    " 4 & 5 \\\\\n",
    " 6 & 7 \\\\\n",
    " 8 & 9 \\end{Bmatrix}=\n",
    " \\begin{Bmatrix} \n",
    " 4\\begin{bmatrix}1\\\\4\\end{bmatrix} + 6\\begin{bmatrix}2\\\\5\\end{bmatrix} + 8\\begin{bmatrix}3\\\\6\\end{bmatrix} &\n",
    " 5\\begin{bmatrix}1\\\\4\\end{bmatrix} + 7\\begin{bmatrix}2\\\\5\\end{bmatrix} + 9\\begin{bmatrix}3\\\\6\\end{bmatrix}\n",
    " \\end{Bmatrix} = \\begin{Bmatrix}\n",
    " \\begin{bmatrix}4\\\\16\\end{bmatrix} + \\begin{bmatrix}12\\\\30\\end{bmatrix} + \\begin{bmatrix}24\\\\48\\end{bmatrix} &\n",
    " \\begin{bmatrix}5\\\\20\\end{bmatrix} + \\begin{bmatrix}14\\\\35\\end{bmatrix} + \\begin{bmatrix}27\\\\54\\end{bmatrix} \n",
    " \\end{Bmatrix} =\n",
    " \\begin{Bmatrix}\n",
    " 40 & 46 \\\\\n",
    " 94 & 109\n",
    " \\end{Bmatrix}$"
   ]
  },
  {
   "cell_type": "markdown",
   "metadata": {},
   "source": [
    "$\\begin{Bmatrix}\n",
    " 1 & 2 \\\\\n",
    " 3 & 4 \\\\\n",
    " 5 & 6 \n",
    " \\end{Bmatrix}\\times\\begin{Bmatrix}\n",
    " 4 & 5 & 6 \\\\\n",
    " 7 & 8 & 9 \n",
    " \\end{Bmatrix}=\n",
    " \\begin{Bmatrix}\n",
    " 4\\begin{bmatrix} 1\\\\3\\\\5 \\end{bmatrix}+ 7 \\begin{bmatrix} 2\\\\4\\\\6 \\end{bmatrix} & \n",
    " 5\\begin{bmatrix} 1\\\\3\\\\5 \\end{bmatrix}+ 8 \\begin{bmatrix} 2\\\\4\\\\6 \\end{bmatrix} &\n",
    " 6\\begin{bmatrix} 1\\\\3\\\\5 \\end{bmatrix}+ 9 \\begin{bmatrix} 2\\\\4\\\\6 \\end{bmatrix} \n",
    " \\end{Bmatrix}= \\begin{Bmatrix}\n",
    " \\begin{bmatrix} 4\\\\12\\\\20 \\end{bmatrix}+ \\begin{bmatrix} 14\\\\28\\\\42 \\end{bmatrix} &\n",
    " \\begin{bmatrix} 5\\\\15\\\\25 \\end{bmatrix}+ \\begin{bmatrix} 16\\\\32\\\\48 \\end{bmatrix} &\n",
    " \\begin{bmatrix} 6\\\\18\\\\30 \\end{bmatrix}+ \\begin{bmatrix} 18\\\\36\\\\54 \\end{bmatrix} \n",
    " \\end{Bmatrix} = \\begin{Bmatrix}\n",
    " 18 & 21 & 24 \\\\\n",
    " 40 & 47 & 54 \\\\\n",
    " 62 & 73 & 84\n",
    " \\end{Bmatrix}$\n",
    " #### This interpretation of matrix multiplication is useful in statistics and AI (machine learning): Linear model fitting (Linear least squares modeling https://en.wikipedia.org/wiki/Linear_least_squares) The left matrix will contain the regressors and the right matrix contains the coefficients. The goal of linear model fitting is that the weighted combination of the regressors and coefficients best model the existsting data"
   ]
  },
  {
   "cell_type": "markdown",
   "metadata": {},
   "source": [
    "## Matrix multiplication column perspective"
   ]
  },
  {
   "cell_type": "code",
   "execution_count": 1,
   "metadata": {},
   "outputs": [],
   "source": [
    "import numpy as np\n",
    "\n",
    "# main function\n",
    "def MM_COL_PERS(M1,M2):\n",
    "    if matrix_multiplication_defined(M1,M2):\n",
    "        ACC = np.array([]) # general accumulator, a numpy array allow us to reshape and transpose\n",
    "        zeros = make_zeros(M1) # zero vector used as a dummy to allow easy vector addition\n",
    "        return inner_logic(M1,M2,ACC,zeros,0,0)\n",
    "    else:\n",
    "        return \"matrix multiplication is not defined for these matrices\"\n",
    "\n",
    "# function for the operational logic\n",
    "def inner_logic(M1,M2,ACC,zeros,row,col):\n",
    "    if col < M2.shape[1]:\n",
    "        if row < M1.shape[1]:\n",
    "        # take the n-th column = n-th row of the M1 transposed\n",
    "            column = M1.T[row] # the original matrix is transposed so the column becomes the row\n",
    "        # the n-th element of the m-th column of the the second matrix\n",
    "            scalar = M2.T[col][row] # the original matrix is transposed so the column becomes the row\n",
    "            vector = scalar * column\n",
    "            zeros = zeros + vector # using a dummy variable here prevents calling another function to add the vectors\n",
    "            return inner_logic(M1,M2,ACC,zeros,row+1,col)\n",
    "        else:\n",
    "            ACC = np.append(ACC, zeros)\n",
    "            zeros = make_zeros(M1) # resetting our dummy variable\n",
    "            row = 0 # resetting the row variable\n",
    "            return inner_logic(M1,M2,ACC,zeros,row,col+1)\n",
    "    else:\n",
    "        return ACC.reshape(M1.shape[0],M2.shape[1]).T # we need to reshape and transpose the accumulator (Python)\n",
    "\n",
    "# pure helper functions\n",
    "def make_zeros(M):\n",
    "    return np.zeros((1,M.shape[0]))\n",
    "\n",
    "def matrix_multiplication_defined(M1,M2):\n",
    "    if M1.shape[1] == M2.shape[0]:\n",
    "        return True \n",
    "    else:\n",
    "        return False\n",
    "\n",
    "\n"
   ]
  },
  {
   "cell_type": "markdown",
   "metadata": {},
   "source": [
    "### Tests "
   ]
  },
  {
   "cell_type": "code",
   "execution_count": 2,
   "metadata": {},
   "outputs": [
    {
     "name": "stdout",
     "output_type": "stream",
     "text": [
      "[[ 1  2  3  4  5  6]\n",
      " [ 7  8  9 10 11 12]\n",
      " [13 14 15 16 17 18]\n",
      " [19 20 21 22 23 24]\n",
      " [25 26 27 28 29 30]\n",
      " [31 32 33 34 35 36]]\n",
      "[[ 5  6  7  8  9 10]\n",
      " [11 12 13 14 15 16]\n",
      " [17 18 19 20 21 22]\n",
      " [23 24 25 26 27 28]\n",
      " [29 30 31 32 33 34]\n",
      " [35 36 37 38 39 40]]\n",
      "python result\n",
      "[[ 525  546  567  588  609  630]\n",
      " [1245 1302 1359 1416 1473 1530]\n",
      " [1965 2058 2151 2244 2337 2430]\n",
      " [2685 2814 2943 3072 3201 3330]\n",
      " [3405 3570 3735 3900 4065 4230]\n",
      " [4125 4326 4527 4728 4929 5130]]\n",
      "result using our function\n",
      "[[ 525.  546.  567.  588.  609.  630.]\n",
      " [1245. 1302. 1359. 1416. 1473. 1530.]\n",
      " [1965. 2058. 2151. 2244. 2337. 2430.]\n",
      " [2685. 2814. 2943. 3072. 3201. 3330.]\n",
      " [3405. 3570. 3735. 3900. 4065. 4230.]\n",
      " [4125. 4326. 4527. 4728. 4929. 5130.]]\n",
      "test should be a zero matrix of same size\n",
      "[[0. 0. 0. 0. 0. 0.]\n",
      " [0. 0. 0. 0. 0. 0.]\n",
      " [0. 0. 0. 0. 0. 0.]\n",
      " [0. 0. 0. 0. 0. 0.]\n",
      " [0. 0. 0. 0. 0. 0.]\n",
      " [0. 0. 0. 0. 0. 0.]]\n"
     ]
    }
   ],
   "source": [
    "A = np.arange(1,7).reshape(1,6)\n",
    "#print(A)\n",
    "B = np.arange(4,10).reshape(3,2)\n",
    "#print(B)\n",
    "AT = np.arange(1,37).reshape(6,6)\n",
    "print(AT)\n",
    "BT = np.arange(5,41).reshape(6,6)\n",
    "print(BT)\n",
    "AX = np.arange(1,5).reshape(2,2)\n",
    "#print(AX)\n",
    "BX = np.arange(5,9).reshape(2,2)\n",
    "#print(BX)\n",
    "\n",
    "print(\"python result\")\n",
    "print(np.matmul(AT,BT))\n",
    "print(\"result using our function\")\n",
    "print(MM_COL_PERS(AT,BT))\n",
    "print(\"test should be a zero matrix of same size\")\n",
    "print(np.matmul(AT,BT)-MM_COL_PERS(AT,BT))\n"
   ]
  },
  {
   "cell_type": "code",
   "execution_count": null,
   "metadata": {
    "collapsed": true
   },
   "outputs": [],
   "source": []
  }
 ],
 "metadata": {
  "kernelspec": {
   "display_name": "Python 3",
   "language": "python",
   "name": "python3"
  },
  "language_info": {
   "codemirror_mode": {
    "name": "ipython",
    "version": 3
   },
   "file_extension": ".py",
   "mimetype": "text/x-python",
   "name": "python",
   "nbconvert_exporter": "python",
   "pygments_lexer": "ipython3",
   "version": "3.7.3"
  }
 },
 "nbformat": 4,
 "nbformat_minor": 2
}
